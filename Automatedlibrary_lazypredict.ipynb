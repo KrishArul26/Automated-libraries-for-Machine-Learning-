{
  "nbformat": 4,
  "nbformat_minor": 0,
  "metadata": {
    "colab": {
      "name": "Automatedlibrary-lazypredict.ipynb",
      "provenance": []
    },
    "kernelspec": {
      "name": "python3",
      "display_name": "Python 3"
    },
    "language_info": {
      "name": "python"
    },
    "accelerator": "GPU"
  },
  "cells": [
    {
      "cell_type": "markdown",
      "metadata": {
        "id": "Akyayuv0VjwQ"
      },
      "source": [
        "### **Automated library-lazypredict**"
      ]
    },
    {
      "cell_type": "markdown",
      "metadata": {
        "id": "aFn-cPSsXAz2"
      },
      "source": [
        "In this notebook I'm going to show how to use of lazypredict (automated) libriry to develop machine learning model. Therefor, I wil use bank_ensample data set also, I did this prbolem in manualy with hyper parameter tuning and using DNN: https://github.com/KrishArul26/bank-full_data.csv-Ensemble-Techniques-and-DNN-/blob/main/bank_full_Ensample_Analysis.ipynb\n",
        "\n",
        "DATASET: https://raw.githubusercontent.com/KrishArul26/Data_set/main/bank-full.csv\n",
        "\n",
        "For more information:https://lazypredict.readthedocs.io/en/latest/"
      ]
    },
    {
      "cell_type": "markdown",
      "metadata": {
        "id": "KfPqi1e1WC6k"
      },
      "source": [
        "Automated Machine Learning, often abbreviated as AutoML, is an emerging field in which the process of building machine learning models to model data is automated. AutoML has the capability to make modelling easier and more accessible for everyone."
      ]
    },
    {
      "cell_type": "markdown",
      "metadata": {
        "id": "hdBS0erMT0Mr"
      },
      "source": [
        "### **lazypredict**"
      ]
    },
    {
      "cell_type": "markdown",
      "metadata": {
        "id": "HCNW5X3axg3g"
      },
      "source": [
        "Lazy Predict helps build a lot of basic models without much code and helps understand which models works better without any parameter tuning."
      ]
    },
    {
      "cell_type": "code",
      "metadata": {
        "id": "i04ffDf9XZsX"
      },
      "source": [
        "pip install lazypredict"
      ],
      "execution_count": null,
      "outputs": []
    },
    {
      "cell_type": "code",
      "metadata": {
        "id": "76Z6F7k1uAR6"
      },
      "source": [
        "import lazypredict"
      ],
      "execution_count": 7,
      "outputs": []
    },
    {
      "cell_type": "markdown",
      "metadata": {
        "id": "T1WGzLBVn6da"
      },
      "source": [
        "### **Loading The Dataset**"
      ]
    },
    {
      "cell_type": "code",
      "metadata": {
        "id": "aOHpVqK8YCIw"
      },
      "source": [
        "import pandas as pd\n",
        "import numpy as np\n",
        "\n",
        "url=\"https://raw.githubusercontent.com/KrishArul26/Data_set/main/bank-full.csv\"\n",
        "bank = pd.read_csv(url,sep=\";\")"
      ],
      "execution_count": 14,
      "outputs": []
    },
    {
      "cell_type": "code",
      "metadata": {
        "id": "-Y5ylI1qtoqO"
      },
      "source": [
        "bank=bank.iloc[:10000,:] #This dataset contains more than 40000 observation I just take only 10000 observation from that"
      ],
      "execution_count": 15,
      "outputs": []
    },
    {
      "cell_type": "code",
      "metadata": {
        "colab": {
          "base_uri": "https://localhost:8080/"
        },
        "id": "rXjqfFXluJA_",
        "outputId": "1ad2624f-69a5-456f-c931-5648292a38c2"
      },
      "source": [
        "bank.info()"
      ],
      "execution_count": 16,
      "outputs": [
        {
          "output_type": "stream",
          "text": [
            "<class 'pandas.core.frame.DataFrame'>\n",
            "RangeIndex: 10000 entries, 0 to 9999\n",
            "Data columns (total 17 columns):\n",
            " #   Column     Non-Null Count  Dtype \n",
            "---  ------     --------------  ----- \n",
            " 0   age        10000 non-null  int64 \n",
            " 1   job        10000 non-null  object\n",
            " 2   marital    10000 non-null  object\n",
            " 3   education  10000 non-null  object\n",
            " 4   default    10000 non-null  object\n",
            " 5   balance    10000 non-null  int64 \n",
            " 6   housing    10000 non-null  object\n",
            " 7   loan       10000 non-null  object\n",
            " 8   contact    10000 non-null  object\n",
            " 9   day        10000 non-null  int64 \n",
            " 10  month      10000 non-null  object\n",
            " 11  duration   10000 non-null  int64 \n",
            " 12  campaign   10000 non-null  int64 \n",
            " 13  pdays      10000 non-null  int64 \n",
            " 14  previous   10000 non-null  int64 \n",
            " 15  poutcome   10000 non-null  object\n",
            " 16  y          10000 non-null  object\n",
            "dtypes: int64(7), object(10)\n",
            "memory usage: 1.3+ MB\n"
          ],
          "name": "stdout"
        }
      ]
    },
    {
      "cell_type": "markdown",
      "metadata": {
        "id": "-BmuvzSTue5_"
      },
      "source": [
        "### **Train-Test Split**"
      ]
    },
    {
      "cell_type": "code",
      "metadata": {
        "id": "-sdXRILopJiH"
      },
      "source": [
        "import lazypredict\n",
        "\n",
        "from lazypredict.Supervised import LazyClassifier\n",
        "from sklearn.model_selection import train_test_split\n",
        "\n",
        "\n",
        "X=bank.iloc[:,:-1]\n",
        "y=bank.iloc[:,-1]\n",
        "\n",
        "X_train, X_test, y_train, y_test = train_test_split(X, y,test_size=.20,random_state =100)\n",
        "\n"
      ],
      "execution_count": 17,
      "outputs": []
    },
    {
      "cell_type": "code",
      "metadata": {
        "id": "kqYn96CoX7jj",
        "colab": {
          "base_uri": "https://localhost:8080/"
        },
        "outputId": "e10f9041-bc0d-4a05-a60b-43b85bf55ba9"
      },
      "source": [
        "clf = LazyClassifier(verbose=0,ignore_warnings=True, custom_metric=None)\n",
        "models,predictions = clf.fit(X_train, X_test, y_train, y_test)\n",
        "\n",
        "print(models)\n"
      ],
      "execution_count": 18,
      "outputs": [
        {
          "output_type": "stream",
          "text": [
            "100%|██████████| 29/29 [00:14<00:00,  1.94it/s]"
          ],
          "name": "stderr"
        },
        {
          "output_type": "stream",
          "text": [
            "                               Accuracy  ...  Time Taken\n",
            "Model                                    ...            \n",
            "NearestCentroid                    0.93  ...        0.11\n",
            "GaussianNB                         0.95  ...        0.08\n",
            "LinearDiscriminantAnalysis         0.96  ...        0.20\n",
            "XGBClassifier                      0.97  ...        0.92\n",
            "DecisionTreeClassifier             0.95  ...        0.10\n",
            "LabelSpreading                     0.96  ...        4.16\n",
            "LabelPropagation                   0.96  ...        2.87\n",
            "LGBMClassifier                     0.97  ...        0.25\n",
            "BaggingClassifier                  0.97  ...        0.24\n",
            "ExtraTreeClassifier                0.95  ...        0.08\n",
            "CalibratedClassifierCV             0.97  ...        1.31\n",
            "LogisticRegression                 0.97  ...        0.23\n",
            "AdaBoostClassifier                 0.96  ...        0.74\n",
            "RandomForestClassifier             0.97  ...        0.69\n",
            "KNeighborsClassifier               0.97  ...        0.38\n",
            "LinearSVC                          0.97  ...        0.38\n",
            "ExtraTreesClassifier               0.97  ...        0.55\n",
            "RidgeClassifier                    0.97  ...        0.12\n",
            "RidgeClassifierCV                  0.97  ...        0.15\n",
            "SGDClassifier                      0.97  ...        0.17\n",
            "SVC                                0.97  ...        0.52\n",
            "PassiveAggressiveClassifier        0.97  ...        0.09\n",
            "DummyClassifier                    0.94  ...        0.08\n",
            "Perceptron                         0.97  ...        0.13\n",
            "QuadraticDiscriminantAnalysis      0.97  ...        0.15\n",
            "BernoulliNB                        0.97  ...        0.11\n",
            "\n",
            "[26 rows x 5 columns]\n"
          ],
          "name": "stdout"
        },
        {
          "output_type": "stream",
          "text": [
            "\n"
          ],
          "name": "stderr"
        }
      ]
    },
    {
      "cell_type": "markdown",
      "metadata": {
        "id": "KL4smAFRvR7T"
      },
      "source": [
        "This lazypredictor used 26 algorithms to classified the dependent variables. We can see in the models So, now we  are going to select which are  algorithms have  accuracy above  95% "
      ]
    },
    {
      "cell_type": "code",
      "metadata": {
        "colab": {
          "base_uri": "https://localhost:8080/",
          "height": 698
        },
        "id": "SsnuqSCBYOau",
        "outputId": "af6ed43f-f5a5-4789-cc99-19dc9007a120"
      },
      "source": [
        "#### Which modles have accuracy above 95%\n",
        "\n",
        "models[models['Accuracy']>0.95]"
      ],
      "execution_count": 29,
      "outputs": [
        {
          "output_type": "execute_result",
          "data": {
            "text/html": [
              "<div>\n",
              "<style scoped>\n",
              "    .dataframe tbody tr th:only-of-type {\n",
              "        vertical-align: middle;\n",
              "    }\n",
              "\n",
              "    .dataframe tbody tr th {\n",
              "        vertical-align: top;\n",
              "    }\n",
              "\n",
              "    .dataframe thead th {\n",
              "        text-align: right;\n",
              "    }\n",
              "</style>\n",
              "<table border=\"1\" class=\"dataframe\">\n",
              "  <thead>\n",
              "    <tr style=\"text-align: right;\">\n",
              "      <th></th>\n",
              "      <th>Accuracy</th>\n",
              "      <th>Balanced Accuracy</th>\n",
              "      <th>ROC AUC</th>\n",
              "      <th>F1 Score</th>\n",
              "      <th>Time Taken</th>\n",
              "    </tr>\n",
              "    <tr>\n",
              "      <th>Model</th>\n",
              "      <th></th>\n",
              "      <th></th>\n",
              "      <th></th>\n",
              "      <th></th>\n",
              "      <th></th>\n",
              "    </tr>\n",
              "  </thead>\n",
              "  <tbody>\n",
              "    <tr>\n",
              "      <th>LinearDiscriminantAnalysis</th>\n",
              "      <td>0.96</td>\n",
              "      <td>0.77</td>\n",
              "      <td>None</td>\n",
              "      <td>0.96</td>\n",
              "      <td>0.20</td>\n",
              "    </tr>\n",
              "    <tr>\n",
              "      <th>XGBClassifier</th>\n",
              "      <td>0.97</td>\n",
              "      <td>0.68</td>\n",
              "      <td>None</td>\n",
              "      <td>0.97</td>\n",
              "      <td>0.92</td>\n",
              "    </tr>\n",
              "    <tr>\n",
              "      <th>LabelSpreading</th>\n",
              "      <td>0.96</td>\n",
              "      <td>0.65</td>\n",
              "      <td>None</td>\n",
              "      <td>0.96</td>\n",
              "      <td>4.16</td>\n",
              "    </tr>\n",
              "    <tr>\n",
              "      <th>LabelPropagation</th>\n",
              "      <td>0.96</td>\n",
              "      <td>0.65</td>\n",
              "      <td>None</td>\n",
              "      <td>0.96</td>\n",
              "      <td>2.87</td>\n",
              "    </tr>\n",
              "    <tr>\n",
              "      <th>LGBMClassifier</th>\n",
              "      <td>0.97</td>\n",
              "      <td>0.65</td>\n",
              "      <td>None</td>\n",
              "      <td>0.97</td>\n",
              "      <td>0.25</td>\n",
              "    </tr>\n",
              "    <tr>\n",
              "      <th>BaggingClassifier</th>\n",
              "      <td>0.97</td>\n",
              "      <td>0.64</td>\n",
              "      <td>None</td>\n",
              "      <td>0.97</td>\n",
              "      <td>0.24</td>\n",
              "    </tr>\n",
              "    <tr>\n",
              "      <th>CalibratedClassifierCV</th>\n",
              "      <td>0.97</td>\n",
              "      <td>0.63</td>\n",
              "      <td>None</td>\n",
              "      <td>0.96</td>\n",
              "      <td>1.31</td>\n",
              "    </tr>\n",
              "    <tr>\n",
              "      <th>LogisticRegression</th>\n",
              "      <td>0.97</td>\n",
              "      <td>0.63</td>\n",
              "      <td>None</td>\n",
              "      <td>0.96</td>\n",
              "      <td>0.23</td>\n",
              "    </tr>\n",
              "    <tr>\n",
              "      <th>AdaBoostClassifier</th>\n",
              "      <td>0.96</td>\n",
              "      <td>0.62</td>\n",
              "      <td>None</td>\n",
              "      <td>0.96</td>\n",
              "      <td>0.74</td>\n",
              "    </tr>\n",
              "    <tr>\n",
              "      <th>RandomForestClassifier</th>\n",
              "      <td>0.97</td>\n",
              "      <td>0.62</td>\n",
              "      <td>None</td>\n",
              "      <td>0.97</td>\n",
              "      <td>0.69</td>\n",
              "    </tr>\n",
              "    <tr>\n",
              "      <th>KNeighborsClassifier</th>\n",
              "      <td>0.97</td>\n",
              "      <td>0.61</td>\n",
              "      <td>None</td>\n",
              "      <td>0.96</td>\n",
              "      <td>0.38</td>\n",
              "    </tr>\n",
              "    <tr>\n",
              "      <th>LinearSVC</th>\n",
              "      <td>0.97</td>\n",
              "      <td>0.60</td>\n",
              "      <td>None</td>\n",
              "      <td>0.96</td>\n",
              "      <td>0.38</td>\n",
              "    </tr>\n",
              "    <tr>\n",
              "      <th>ExtraTreesClassifier</th>\n",
              "      <td>0.97</td>\n",
              "      <td>0.59</td>\n",
              "      <td>None</td>\n",
              "      <td>0.96</td>\n",
              "      <td>0.55</td>\n",
              "    </tr>\n",
              "    <tr>\n",
              "      <th>RidgeClassifier</th>\n",
              "      <td>0.97</td>\n",
              "      <td>0.56</td>\n",
              "      <td>None</td>\n",
              "      <td>0.96</td>\n",
              "      <td>0.12</td>\n",
              "    </tr>\n",
              "    <tr>\n",
              "      <th>RidgeClassifierCV</th>\n",
              "      <td>0.97</td>\n",
              "      <td>0.56</td>\n",
              "      <td>None</td>\n",
              "      <td>0.96</td>\n",
              "      <td>0.15</td>\n",
              "    </tr>\n",
              "    <tr>\n",
              "      <th>SGDClassifier</th>\n",
              "      <td>0.97</td>\n",
              "      <td>0.56</td>\n",
              "      <td>None</td>\n",
              "      <td>0.96</td>\n",
              "      <td>0.17</td>\n",
              "    </tr>\n",
              "    <tr>\n",
              "      <th>SVC</th>\n",
              "      <td>0.97</td>\n",
              "      <td>0.55</td>\n",
              "      <td>None</td>\n",
              "      <td>0.96</td>\n",
              "      <td>0.52</td>\n",
              "    </tr>\n",
              "    <tr>\n",
              "      <th>PassiveAggressiveClassifier</th>\n",
              "      <td>0.97</td>\n",
              "      <td>0.53</td>\n",
              "      <td>None</td>\n",
              "      <td>0.96</td>\n",
              "      <td>0.09</td>\n",
              "    </tr>\n",
              "    <tr>\n",
              "      <th>Perceptron</th>\n",
              "      <td>0.97</td>\n",
              "      <td>0.51</td>\n",
              "      <td>None</td>\n",
              "      <td>0.96</td>\n",
              "      <td>0.13</td>\n",
              "    </tr>\n",
              "    <tr>\n",
              "      <th>QuadraticDiscriminantAnalysis</th>\n",
              "      <td>0.97</td>\n",
              "      <td>0.50</td>\n",
              "      <td>None</td>\n",
              "      <td>0.95</td>\n",
              "      <td>0.15</td>\n",
              "    </tr>\n",
              "    <tr>\n",
              "      <th>BernoulliNB</th>\n",
              "      <td>0.97</td>\n",
              "      <td>0.50</td>\n",
              "      <td>None</td>\n",
              "      <td>0.95</td>\n",
              "      <td>0.11</td>\n",
              "    </tr>\n",
              "  </tbody>\n",
              "</table>\n",
              "</div>"
            ],
            "text/plain": [
              "                               Accuracy  ...  Time Taken\n",
              "Model                                    ...            \n",
              "LinearDiscriminantAnalysis         0.96  ...        0.20\n",
              "XGBClassifier                      0.97  ...        0.92\n",
              "LabelSpreading                     0.96  ...        4.16\n",
              "LabelPropagation                   0.96  ...        2.87\n",
              "LGBMClassifier                     0.97  ...        0.25\n",
              "BaggingClassifier                  0.97  ...        0.24\n",
              "CalibratedClassifierCV             0.97  ...        1.31\n",
              "LogisticRegression                 0.97  ...        0.23\n",
              "AdaBoostClassifier                 0.96  ...        0.74\n",
              "RandomForestClassifier             0.97  ...        0.69\n",
              "KNeighborsClassifier               0.97  ...        0.38\n",
              "LinearSVC                          0.97  ...        0.38\n",
              "ExtraTreesClassifier               0.97  ...        0.55\n",
              "RidgeClassifier                    0.97  ...        0.12\n",
              "RidgeClassifierCV                  0.97  ...        0.15\n",
              "SGDClassifier                      0.97  ...        0.17\n",
              "SVC                                0.97  ...        0.52\n",
              "PassiveAggressiveClassifier        0.97  ...        0.09\n",
              "Perceptron                         0.97  ...        0.13\n",
              "QuadraticDiscriminantAnalysis      0.97  ...        0.15\n",
              "BernoulliNB                        0.97  ...        0.11\n",
              "\n",
              "[21 rows x 5 columns]"
            ]
          },
          "metadata": {
            "tags": []
          },
          "execution_count": 29
        }
      ]
    },
    {
      "cell_type": "markdown",
      "metadata": {
        "id": "aCiqLDKBjgCR"
      },
      "source": [
        "**Conclusion**\n",
        "\n",
        "**Finally, We can choose the first five models which have good precision and recall or F1 values then we can do manually hyperparameter tuning and finalize our ML model.**"
      ]
    }
  ]
}