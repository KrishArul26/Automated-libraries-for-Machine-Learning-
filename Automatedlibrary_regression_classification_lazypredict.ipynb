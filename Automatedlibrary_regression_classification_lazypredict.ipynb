{
  "nbformat": 4,
  "nbformat_minor": 0,
  "metadata": {
    "colab": {
      "name": "Automatedlibrary_regression_classification-lazypredict.ipynb",
      "provenance": [],
      "collapsed_sections": []
    },
    "kernelspec": {
      "name": "python3",
      "display_name": "Python 3"
    },
    "language_info": {
      "name": "python"
    },
    "accelerator": "GPU"
  },
  "cells": [
    {
      "cell_type": "markdown",
      "metadata": {
        "id": "Akyayuv0VjwQ"
      },
      "source": [
        "### **Automated library-lazypredict for Regression and Classification**"
      ]
    },
    {
      "cell_type": "markdown",
      "metadata": {
        "id": "aFn-cPSsXAz2"
      },
      "source": [
        "\n",
        "In this notebook, I'm going to show how to use  the lazypredict (automated) library to develop a classification model and regression model. So, I wil use bank_ensample data set also, I did this prbolem in manualy with hyper parameter tuning and using DNN: https://github.com/KrishArul26/bank-full_data.csv-Ensemble-Techniques-and-DNN-/blob/main/bank_full_Ensample_Analysis.ipynb\n",
        "\n",
        "DATASET: https://raw.githubusercontent.com/KrishArul26/Data_set/main/bank-full.csv\n",
        "\n",
        "For more information:https://lazypredict.readthedocs.io/en/latest/"
      ]
    },
    {
      "cell_type": "markdown",
      "metadata": {
        "id": "KfPqi1e1WC6k"
      },
      "source": [
        "Automated Machine Learning, often abbreviated as AutoML, is an emerging field in which the process of building machine learning models to model data is automated. AutoML has the capability to make modelling easier and more accessible for everyone."
      ]
    },
    {
      "cell_type": "markdown",
      "metadata": {
        "id": "hdBS0erMT0Mr"
      },
      "source": [
        "### **lazypredict**"
      ]
    },
    {
      "cell_type": "markdown",
      "metadata": {
        "id": "HCNW5X3axg3g"
      },
      "source": [
        "Lazy Predict helps build a lot of basic models without much code and helps understand which models works better without any parameter tuning.\n",
        "\n",
        "**It doesn't take care of NA values. So, we have to deal with NA values manually.**\n"
      ]
    },
    {
      "cell_type": "code",
      "metadata": {
        "id": "i04ffDf9XZsX"
      },
      "source": [
        "pip install lazypredict"
      ],
      "execution_count": null,
      "outputs": []
    },
    {
      "cell_type": "code",
      "metadata": {
        "id": "76Z6F7k1uAR6"
      },
      "source": [
        "import lazypredict"
      ],
      "execution_count": 42,
      "outputs": []
    },
    {
      "cell_type": "markdown",
      "metadata": {
        "id": "T1WGzLBVn6da"
      },
      "source": [
        "### **Loading The Dataset**"
      ]
    },
    {
      "cell_type": "code",
      "metadata": {
        "id": "aOHpVqK8YCIw"
      },
      "source": [
        "import pandas as pd\n",
        "import numpy as np\n",
        "\n",
        "url=\"https://raw.githubusercontent.com/KrishArul26/Data_set/main/bank-full.csv\"\n",
        "bank = pd.read_csv(url,sep=\";\")"
      ],
      "execution_count": 31,
      "outputs": []
    },
    {
      "cell_type": "code",
      "metadata": {
        "id": "-Y5ylI1qtoqO"
      },
      "source": [
        "bank=bank.iloc[:10000,:] #This dataset contains more than 40000 observation I just take only 10000 observation from that"
      ],
      "execution_count": 15,
      "outputs": []
    },
    {
      "cell_type": "code",
      "metadata": {
        "colab": {
          "base_uri": "https://localhost:8080/"
        },
        "id": "rXjqfFXluJA_",
        "outputId": "1ad2624f-69a5-456f-c931-5648292a38c2"
      },
      "source": [
        "bank.info()"
      ],
      "execution_count": 16,
      "outputs": [
        {
          "output_type": "stream",
          "text": [
            "<class 'pandas.core.frame.DataFrame'>\n",
            "RangeIndex: 10000 entries, 0 to 9999\n",
            "Data columns (total 17 columns):\n",
            " #   Column     Non-Null Count  Dtype \n",
            "---  ------     --------------  ----- \n",
            " 0   age        10000 non-null  int64 \n",
            " 1   job        10000 non-null  object\n",
            " 2   marital    10000 non-null  object\n",
            " 3   education  10000 non-null  object\n",
            " 4   default    10000 non-null  object\n",
            " 5   balance    10000 non-null  int64 \n",
            " 6   housing    10000 non-null  object\n",
            " 7   loan       10000 non-null  object\n",
            " 8   contact    10000 non-null  object\n",
            " 9   day        10000 non-null  int64 \n",
            " 10  month      10000 non-null  object\n",
            " 11  duration   10000 non-null  int64 \n",
            " 12  campaign   10000 non-null  int64 \n",
            " 13  pdays      10000 non-null  int64 \n",
            " 14  previous   10000 non-null  int64 \n",
            " 15  poutcome   10000 non-null  object\n",
            " 16  y          10000 non-null  object\n",
            "dtypes: int64(7), object(10)\n",
            "memory usage: 1.3+ MB\n"
          ],
          "name": "stdout"
        }
      ]
    },
    {
      "cell_type": "markdown",
      "metadata": {
        "id": "-BmuvzSTue5_"
      },
      "source": [
        "### **Train-Test Split**"
      ]
    },
    {
      "cell_type": "code",
      "metadata": {
        "id": "-sdXRILopJiH"
      },
      "source": [
        "import lazypredict\n",
        "\n",
        "from lazypredict.Supervised import LazyClassifier\n",
        "from sklearn.model_selection import train_test_split\n",
        "\n",
        "\n",
        "X=bank.iloc[:,:-1]\n",
        "y=bank.iloc[:,-1]\n",
        "\n",
        "X_train, X_test, y_train, y_test = train_test_split(X, y,test_size=.20,random_state =100)\n",
        "\n"
      ],
      "execution_count": 17,
      "outputs": []
    },
    {
      "cell_type": "markdown",
      "metadata": {
        "id": "jccdACeN4ADY"
      },
      "source": [
        "### **Classification Probelms**"
      ]
    },
    {
      "cell_type": "code",
      "metadata": {
        "id": "kqYn96CoX7jj",
        "colab": {
          "base_uri": "https://localhost:8080/"
        },
        "outputId": "e10f9041-bc0d-4a05-a60b-43b85bf55ba9"
      },
      "source": [
        "clf = LazyClassifier(verbose=0,ignore_warnings=True, custom_metric=None)\n",
        "models,predictions = clf.fit(X_train, X_test, y_train, y_test)\n",
        "\n",
        "print(models)\n"
      ],
      "execution_count": 18,
      "outputs": [
        {
          "output_type": "stream",
          "text": [
            "100%|██████████| 29/29 [00:14<00:00,  1.94it/s]"
          ],
          "name": "stderr"
        },
        {
          "output_type": "stream",
          "text": [
            "                               Accuracy  ...  Time Taken\n",
            "Model                                    ...            \n",
            "NearestCentroid                    0.93  ...        0.11\n",
            "GaussianNB                         0.95  ...        0.08\n",
            "LinearDiscriminantAnalysis         0.96  ...        0.20\n",
            "XGBClassifier                      0.97  ...        0.92\n",
            "DecisionTreeClassifier             0.95  ...        0.10\n",
            "LabelSpreading                     0.96  ...        4.16\n",
            "LabelPropagation                   0.96  ...        2.87\n",
            "LGBMClassifier                     0.97  ...        0.25\n",
            "BaggingClassifier                  0.97  ...        0.24\n",
            "ExtraTreeClassifier                0.95  ...        0.08\n",
            "CalibratedClassifierCV             0.97  ...        1.31\n",
            "LogisticRegression                 0.97  ...        0.23\n",
            "AdaBoostClassifier                 0.96  ...        0.74\n",
            "RandomForestClassifier             0.97  ...        0.69\n",
            "KNeighborsClassifier               0.97  ...        0.38\n",
            "LinearSVC                          0.97  ...        0.38\n",
            "ExtraTreesClassifier               0.97  ...        0.55\n",
            "RidgeClassifier                    0.97  ...        0.12\n",
            "RidgeClassifierCV                  0.97  ...        0.15\n",
            "SGDClassifier                      0.97  ...        0.17\n",
            "SVC                                0.97  ...        0.52\n",
            "PassiveAggressiveClassifier        0.97  ...        0.09\n",
            "DummyClassifier                    0.94  ...        0.08\n",
            "Perceptron                         0.97  ...        0.13\n",
            "QuadraticDiscriminantAnalysis      0.97  ...        0.15\n",
            "BernoulliNB                        0.97  ...        0.11\n",
            "\n",
            "[26 rows x 5 columns]\n"
          ],
          "name": "stdout"
        },
        {
          "output_type": "stream",
          "text": [
            "\n"
          ],
          "name": "stderr"
        }
      ]
    },
    {
      "cell_type": "markdown",
      "metadata": {
        "id": "KL4smAFRvR7T"
      },
      "source": [
        "This lazypredictor used 26 algorithms to classified the dependent variables. We can see in the models So, now we  are going to select which are  algorithms have  accuracy above  95% "
      ]
    },
    {
      "cell_type": "code",
      "metadata": {
        "colab": {
          "base_uri": "https://localhost:8080/",
          "height": 698
        },
        "id": "SsnuqSCBYOau",
        "outputId": "af6ed43f-f5a5-4789-cc99-19dc9007a120"
      },
      "source": [
        "#### Which modles have accuracy above 95%\n",
        "\n",
        "models[models['Accuracy']>0.95]"
      ],
      "execution_count": 29,
      "outputs": [
        {
          "output_type": "execute_result",
          "data": {
            "text/html": [
              "<div>\n",
              "<style scoped>\n",
              "    .dataframe tbody tr th:only-of-type {\n",
              "        vertical-align: middle;\n",
              "    }\n",
              "\n",
              "    .dataframe tbody tr th {\n",
              "        vertical-align: top;\n",
              "    }\n",
              "\n",
              "    .dataframe thead th {\n",
              "        text-align: right;\n",
              "    }\n",
              "</style>\n",
              "<table border=\"1\" class=\"dataframe\">\n",
              "  <thead>\n",
              "    <tr style=\"text-align: right;\">\n",
              "      <th></th>\n",
              "      <th>Accuracy</th>\n",
              "      <th>Balanced Accuracy</th>\n",
              "      <th>ROC AUC</th>\n",
              "      <th>F1 Score</th>\n",
              "      <th>Time Taken</th>\n",
              "    </tr>\n",
              "    <tr>\n",
              "      <th>Model</th>\n",
              "      <th></th>\n",
              "      <th></th>\n",
              "      <th></th>\n",
              "      <th></th>\n",
              "      <th></th>\n",
              "    </tr>\n",
              "  </thead>\n",
              "  <tbody>\n",
              "    <tr>\n",
              "      <th>LinearDiscriminantAnalysis</th>\n",
              "      <td>0.96</td>\n",
              "      <td>0.77</td>\n",
              "      <td>None</td>\n",
              "      <td>0.96</td>\n",
              "      <td>0.20</td>\n",
              "    </tr>\n",
              "    <tr>\n",
              "      <th>XGBClassifier</th>\n",
              "      <td>0.97</td>\n",
              "      <td>0.68</td>\n",
              "      <td>None</td>\n",
              "      <td>0.97</td>\n",
              "      <td>0.92</td>\n",
              "    </tr>\n",
              "    <tr>\n",
              "      <th>LabelSpreading</th>\n",
              "      <td>0.96</td>\n",
              "      <td>0.65</td>\n",
              "      <td>None</td>\n",
              "      <td>0.96</td>\n",
              "      <td>4.16</td>\n",
              "    </tr>\n",
              "    <tr>\n",
              "      <th>LabelPropagation</th>\n",
              "      <td>0.96</td>\n",
              "      <td>0.65</td>\n",
              "      <td>None</td>\n",
              "      <td>0.96</td>\n",
              "      <td>2.87</td>\n",
              "    </tr>\n",
              "    <tr>\n",
              "      <th>LGBMClassifier</th>\n",
              "      <td>0.97</td>\n",
              "      <td>0.65</td>\n",
              "      <td>None</td>\n",
              "      <td>0.97</td>\n",
              "      <td>0.25</td>\n",
              "    </tr>\n",
              "    <tr>\n",
              "      <th>BaggingClassifier</th>\n",
              "      <td>0.97</td>\n",
              "      <td>0.64</td>\n",
              "      <td>None</td>\n",
              "      <td>0.97</td>\n",
              "      <td>0.24</td>\n",
              "    </tr>\n",
              "    <tr>\n",
              "      <th>CalibratedClassifierCV</th>\n",
              "      <td>0.97</td>\n",
              "      <td>0.63</td>\n",
              "      <td>None</td>\n",
              "      <td>0.96</td>\n",
              "      <td>1.31</td>\n",
              "    </tr>\n",
              "    <tr>\n",
              "      <th>LogisticRegression</th>\n",
              "      <td>0.97</td>\n",
              "      <td>0.63</td>\n",
              "      <td>None</td>\n",
              "      <td>0.96</td>\n",
              "      <td>0.23</td>\n",
              "    </tr>\n",
              "    <tr>\n",
              "      <th>AdaBoostClassifier</th>\n",
              "      <td>0.96</td>\n",
              "      <td>0.62</td>\n",
              "      <td>None</td>\n",
              "      <td>0.96</td>\n",
              "      <td>0.74</td>\n",
              "    </tr>\n",
              "    <tr>\n",
              "      <th>RandomForestClassifier</th>\n",
              "      <td>0.97</td>\n",
              "      <td>0.62</td>\n",
              "      <td>None</td>\n",
              "      <td>0.97</td>\n",
              "      <td>0.69</td>\n",
              "    </tr>\n",
              "    <tr>\n",
              "      <th>KNeighborsClassifier</th>\n",
              "      <td>0.97</td>\n",
              "      <td>0.61</td>\n",
              "      <td>None</td>\n",
              "      <td>0.96</td>\n",
              "      <td>0.38</td>\n",
              "    </tr>\n",
              "    <tr>\n",
              "      <th>LinearSVC</th>\n",
              "      <td>0.97</td>\n",
              "      <td>0.60</td>\n",
              "      <td>None</td>\n",
              "      <td>0.96</td>\n",
              "      <td>0.38</td>\n",
              "    </tr>\n",
              "    <tr>\n",
              "      <th>ExtraTreesClassifier</th>\n",
              "      <td>0.97</td>\n",
              "      <td>0.59</td>\n",
              "      <td>None</td>\n",
              "      <td>0.96</td>\n",
              "      <td>0.55</td>\n",
              "    </tr>\n",
              "    <tr>\n",
              "      <th>RidgeClassifier</th>\n",
              "      <td>0.97</td>\n",
              "      <td>0.56</td>\n",
              "      <td>None</td>\n",
              "      <td>0.96</td>\n",
              "      <td>0.12</td>\n",
              "    </tr>\n",
              "    <tr>\n",
              "      <th>RidgeClassifierCV</th>\n",
              "      <td>0.97</td>\n",
              "      <td>0.56</td>\n",
              "      <td>None</td>\n",
              "      <td>0.96</td>\n",
              "      <td>0.15</td>\n",
              "    </tr>\n",
              "    <tr>\n",
              "      <th>SGDClassifier</th>\n",
              "      <td>0.97</td>\n",
              "      <td>0.56</td>\n",
              "      <td>None</td>\n",
              "      <td>0.96</td>\n",
              "      <td>0.17</td>\n",
              "    </tr>\n",
              "    <tr>\n",
              "      <th>SVC</th>\n",
              "      <td>0.97</td>\n",
              "      <td>0.55</td>\n",
              "      <td>None</td>\n",
              "      <td>0.96</td>\n",
              "      <td>0.52</td>\n",
              "    </tr>\n",
              "    <tr>\n",
              "      <th>PassiveAggressiveClassifier</th>\n",
              "      <td>0.97</td>\n",
              "      <td>0.53</td>\n",
              "      <td>None</td>\n",
              "      <td>0.96</td>\n",
              "      <td>0.09</td>\n",
              "    </tr>\n",
              "    <tr>\n",
              "      <th>Perceptron</th>\n",
              "      <td>0.97</td>\n",
              "      <td>0.51</td>\n",
              "      <td>None</td>\n",
              "      <td>0.96</td>\n",
              "      <td>0.13</td>\n",
              "    </tr>\n",
              "    <tr>\n",
              "      <th>QuadraticDiscriminantAnalysis</th>\n",
              "      <td>0.97</td>\n",
              "      <td>0.50</td>\n",
              "      <td>None</td>\n",
              "      <td>0.95</td>\n",
              "      <td>0.15</td>\n",
              "    </tr>\n",
              "    <tr>\n",
              "      <th>BernoulliNB</th>\n",
              "      <td>0.97</td>\n",
              "      <td>0.50</td>\n",
              "      <td>None</td>\n",
              "      <td>0.95</td>\n",
              "      <td>0.11</td>\n",
              "    </tr>\n",
              "  </tbody>\n",
              "</table>\n",
              "</div>"
            ],
            "text/plain": [
              "                               Accuracy  ...  Time Taken\n",
              "Model                                    ...            \n",
              "LinearDiscriminantAnalysis         0.96  ...        0.20\n",
              "XGBClassifier                      0.97  ...        0.92\n",
              "LabelSpreading                     0.96  ...        4.16\n",
              "LabelPropagation                   0.96  ...        2.87\n",
              "LGBMClassifier                     0.97  ...        0.25\n",
              "BaggingClassifier                  0.97  ...        0.24\n",
              "CalibratedClassifierCV             0.97  ...        1.31\n",
              "LogisticRegression                 0.97  ...        0.23\n",
              "AdaBoostClassifier                 0.96  ...        0.74\n",
              "RandomForestClassifier             0.97  ...        0.69\n",
              "KNeighborsClassifier               0.97  ...        0.38\n",
              "LinearSVC                          0.97  ...        0.38\n",
              "ExtraTreesClassifier               0.97  ...        0.55\n",
              "RidgeClassifier                    0.97  ...        0.12\n",
              "RidgeClassifierCV                  0.97  ...        0.15\n",
              "SGDClassifier                      0.97  ...        0.17\n",
              "SVC                                0.97  ...        0.52\n",
              "PassiveAggressiveClassifier        0.97  ...        0.09\n",
              "Perceptron                         0.97  ...        0.13\n",
              "QuadraticDiscriminantAnalysis      0.97  ...        0.15\n",
              "BernoulliNB                        0.97  ...        0.11\n",
              "\n",
              "[21 rows x 5 columns]"
            ]
          },
          "metadata": {
            "tags": []
          },
          "execution_count": 29
        }
      ]
    },
    {
      "cell_type": "markdown",
      "metadata": {
        "id": "BasVC2tO6eRZ"
      },
      "source": [
        "#### Finally, We can choose the first five models which have good precision and recall or F1 values then we can do manually hyperparameter tuning and finalize our ML model"
      ]
    },
    {
      "cell_type": "markdown",
      "metadata": {
        "id": "Tw2jkWOV32Wn"
      },
      "source": [
        "### **Regression Problems**"
      ]
    },
    {
      "cell_type": "code",
      "metadata": {
        "id": "rR76lrlV4G_F"
      },
      "source": [
        "import numpy as np\n",
        "\n",
        "url=\"https://raw.githubusercontent.com/KrishArul26/Data_set/main/Airquality_index.csv\"\n",
        "air_quality= pd.read_csv(url,sep=\",\")"
      ],
      "execution_count": 43,
      "outputs": []
    },
    {
      "cell_type": "code",
      "metadata": {
        "colab": {
          "base_uri": "https://localhost:8080/",
          "height": 195
        },
        "id": "gnaGMrXo4Zyb",
        "outputId": "8c1cd2ab-f1c9-46ae-cd9f-106938bec91a"
      },
      "source": [
        "air_quality.head()"
      ],
      "execution_count": 44,
      "outputs": [
        {
          "output_type": "execute_result",
          "data": {
            "text/html": [
              "<div>\n",
              "<style scoped>\n",
              "    .dataframe tbody tr th:only-of-type {\n",
              "        vertical-align: middle;\n",
              "    }\n",
              "\n",
              "    .dataframe tbody tr th {\n",
              "        vertical-align: top;\n",
              "    }\n",
              "\n",
              "    .dataframe thead th {\n",
              "        text-align: right;\n",
              "    }\n",
              "</style>\n",
              "<table border=\"1\" class=\"dataframe\">\n",
              "  <thead>\n",
              "    <tr style=\"text-align: right;\">\n",
              "      <th></th>\n",
              "      <th>T</th>\n",
              "      <th>TM</th>\n",
              "      <th>Tm</th>\n",
              "      <th>SLP</th>\n",
              "      <th>H</th>\n",
              "      <th>VV</th>\n",
              "      <th>V</th>\n",
              "      <th>VM</th>\n",
              "      <th>PM 2.5</th>\n",
              "    </tr>\n",
              "  </thead>\n",
              "  <tbody>\n",
              "    <tr>\n",
              "      <th>0</th>\n",
              "      <td>7.40</td>\n",
              "      <td>9.80</td>\n",
              "      <td>4.80</td>\n",
              "      <td>1017.60</td>\n",
              "      <td>93.00</td>\n",
              "      <td>0.50</td>\n",
              "      <td>4.30</td>\n",
              "      <td>9.40</td>\n",
              "      <td>219.72</td>\n",
              "    </tr>\n",
              "    <tr>\n",
              "      <th>1</th>\n",
              "      <td>7.80</td>\n",
              "      <td>12.70</td>\n",
              "      <td>4.40</td>\n",
              "      <td>1018.50</td>\n",
              "      <td>87.00</td>\n",
              "      <td>0.60</td>\n",
              "      <td>4.40</td>\n",
              "      <td>11.10</td>\n",
              "      <td>182.19</td>\n",
              "    </tr>\n",
              "    <tr>\n",
              "      <th>2</th>\n",
              "      <td>6.70</td>\n",
              "      <td>13.40</td>\n",
              "      <td>2.40</td>\n",
              "      <td>1019.40</td>\n",
              "      <td>82.00</td>\n",
              "      <td>0.60</td>\n",
              "      <td>4.80</td>\n",
              "      <td>11.10</td>\n",
              "      <td>154.04</td>\n",
              "    </tr>\n",
              "    <tr>\n",
              "      <th>3</th>\n",
              "      <td>8.60</td>\n",
              "      <td>15.50</td>\n",
              "      <td>3.30</td>\n",
              "      <td>1018.70</td>\n",
              "      <td>72.00</td>\n",
              "      <td>0.80</td>\n",
              "      <td>8.10</td>\n",
              "      <td>20.60</td>\n",
              "      <td>223.21</td>\n",
              "    </tr>\n",
              "    <tr>\n",
              "      <th>4</th>\n",
              "      <td>12.40</td>\n",
              "      <td>20.90</td>\n",
              "      <td>4.40</td>\n",
              "      <td>1017.30</td>\n",
              "      <td>61.00</td>\n",
              "      <td>1.30</td>\n",
              "      <td>8.70</td>\n",
              "      <td>22.20</td>\n",
              "      <td>200.65</td>\n",
              "    </tr>\n",
              "  </tbody>\n",
              "</table>\n",
              "</div>"
            ],
            "text/plain": [
              "      T    TM   Tm     SLP     H   VV    V    VM  PM 2.5\n",
              "0  7.40  9.80 4.80 1017.60 93.00 0.50 4.30  9.40  219.72\n",
              "1  7.80 12.70 4.40 1018.50 87.00 0.60 4.40 11.10  182.19\n",
              "2  6.70 13.40 2.40 1019.40 82.00 0.60 4.80 11.10  154.04\n",
              "3  8.60 15.50 3.30 1018.70 72.00 0.80 8.10 20.60  223.21\n",
              "4 12.40 20.90 4.40 1017.30 61.00 1.30 8.70 22.20  200.65"
            ]
          },
          "metadata": {
            "tags": []
          },
          "execution_count": 44
        }
      ]
    },
    {
      "cell_type": "markdown",
      "metadata": {
        "id": "46HCtAGM56Ah"
      },
      "source": [
        "**Dealing with NA values in the dataset**"
      ]
    },
    {
      "cell_type": "code",
      "metadata": {
        "colab": {
          "base_uri": "https://localhost:8080/"
        },
        "id": "S7DzQh5w5Qp3",
        "outputId": "ee5509dd-a934-4e25-d5af-0c7678255a68"
      },
      "source": [
        "air_quality.isna().sum()"
      ],
      "execution_count": 48,
      "outputs": [
        {
          "output_type": "execute_result",
          "data": {
            "text/plain": [
              "T         0\n",
              "TM        0\n",
              "Tm        0\n",
              "SLP       0\n",
              "H         0\n",
              "VV        0\n",
              "V         0\n",
              "VM        0\n",
              "PM 2.5    1\n",
              "dtype: int64"
            ]
          },
          "metadata": {
            "tags": []
          },
          "execution_count": 48
        }
      ]
    },
    {
      "cell_type": "code",
      "metadata": {
        "id": "MPbiKWVY5WwU"
      },
      "source": [
        "air_quality=air_quality.dropna()"
      ],
      "execution_count": 49,
      "outputs": []
    },
    {
      "cell_type": "code",
      "metadata": {
        "colab": {
          "base_uri": "https://localhost:8080/"
        },
        "id": "6GLNvgxu5fGS",
        "outputId": "812ca9d8-7f63-4433-f939-fef26fa4e6d1"
      },
      "source": [
        "air_quality.isna().sum()"
      ],
      "execution_count": 50,
      "outputs": [
        {
          "output_type": "execute_result",
          "data": {
            "text/plain": [
              "T         0\n",
              "TM        0\n",
              "Tm        0\n",
              "SLP       0\n",
              "H         0\n",
              "VV        0\n",
              "V         0\n",
              "VM        0\n",
              "PM 2.5    0\n",
              "dtype: int64"
            ]
          },
          "metadata": {
            "tags": []
          },
          "execution_count": 50
        }
      ]
    },
    {
      "cell_type": "code",
      "metadata": {
        "colab": {
          "base_uri": "https://localhost:8080/",
          "height": 195
        },
        "id": "8vNgkb4t5mb6",
        "outputId": "97a47658-de72-4ce4-cf50-078d53cd98e2"
      },
      "source": [
        "air_quality.head()"
      ],
      "execution_count": 53,
      "outputs": [
        {
          "output_type": "execute_result",
          "data": {
            "text/html": [
              "<div>\n",
              "<style scoped>\n",
              "    .dataframe tbody tr th:only-of-type {\n",
              "        vertical-align: middle;\n",
              "    }\n",
              "\n",
              "    .dataframe tbody tr th {\n",
              "        vertical-align: top;\n",
              "    }\n",
              "\n",
              "    .dataframe thead th {\n",
              "        text-align: right;\n",
              "    }\n",
              "</style>\n",
              "<table border=\"1\" class=\"dataframe\">\n",
              "  <thead>\n",
              "    <tr style=\"text-align: right;\">\n",
              "      <th></th>\n",
              "      <th>T</th>\n",
              "      <th>TM</th>\n",
              "      <th>Tm</th>\n",
              "      <th>SLP</th>\n",
              "      <th>H</th>\n",
              "      <th>VV</th>\n",
              "      <th>V</th>\n",
              "      <th>VM</th>\n",
              "      <th>PM 2.5</th>\n",
              "    </tr>\n",
              "  </thead>\n",
              "  <tbody>\n",
              "    <tr>\n",
              "      <th>0</th>\n",
              "      <td>7.40</td>\n",
              "      <td>9.80</td>\n",
              "      <td>4.80</td>\n",
              "      <td>1017.60</td>\n",
              "      <td>93.00</td>\n",
              "      <td>0.50</td>\n",
              "      <td>4.30</td>\n",
              "      <td>9.40</td>\n",
              "      <td>219.72</td>\n",
              "    </tr>\n",
              "    <tr>\n",
              "      <th>1</th>\n",
              "      <td>7.80</td>\n",
              "      <td>12.70</td>\n",
              "      <td>4.40</td>\n",
              "      <td>1018.50</td>\n",
              "      <td>87.00</td>\n",
              "      <td>0.60</td>\n",
              "      <td>4.40</td>\n",
              "      <td>11.10</td>\n",
              "      <td>182.19</td>\n",
              "    </tr>\n",
              "    <tr>\n",
              "      <th>2</th>\n",
              "      <td>6.70</td>\n",
              "      <td>13.40</td>\n",
              "      <td>2.40</td>\n",
              "      <td>1019.40</td>\n",
              "      <td>82.00</td>\n",
              "      <td>0.60</td>\n",
              "      <td>4.80</td>\n",
              "      <td>11.10</td>\n",
              "      <td>154.04</td>\n",
              "    </tr>\n",
              "    <tr>\n",
              "      <th>3</th>\n",
              "      <td>8.60</td>\n",
              "      <td>15.50</td>\n",
              "      <td>3.30</td>\n",
              "      <td>1018.70</td>\n",
              "      <td>72.00</td>\n",
              "      <td>0.80</td>\n",
              "      <td>8.10</td>\n",
              "      <td>20.60</td>\n",
              "      <td>223.21</td>\n",
              "    </tr>\n",
              "    <tr>\n",
              "      <th>4</th>\n",
              "      <td>12.40</td>\n",
              "      <td>20.90</td>\n",
              "      <td>4.40</td>\n",
              "      <td>1017.30</td>\n",
              "      <td>61.00</td>\n",
              "      <td>1.30</td>\n",
              "      <td>8.70</td>\n",
              "      <td>22.20</td>\n",
              "      <td>200.65</td>\n",
              "    </tr>\n",
              "  </tbody>\n",
              "</table>\n",
              "</div>"
            ],
            "text/plain": [
              "      T    TM   Tm     SLP     H   VV    V    VM  PM 2.5\n",
              "0  7.40  9.80 4.80 1017.60 93.00 0.50 4.30  9.40  219.72\n",
              "1  7.80 12.70 4.40 1018.50 87.00 0.60 4.40 11.10  182.19\n",
              "2  6.70 13.40 2.40 1019.40 82.00 0.60 4.80 11.10  154.04\n",
              "3  8.60 15.50 3.30 1018.70 72.00 0.80 8.10 20.60  223.21\n",
              "4 12.40 20.90 4.40 1017.30 61.00 1.30 8.70 22.20  200.65"
            ]
          },
          "metadata": {
            "tags": []
          },
          "execution_count": 53
        }
      ]
    },
    {
      "cell_type": "code",
      "metadata": {
        "id": "QoEW1fet4HBr"
      },
      "source": [
        "from lazypredict.Supervised import LazyRegressor\n",
        "from sklearn.model_selection import train_test_split\n",
        "\n",
        "\n",
        "X=air_quality.iloc[:,:-1]\n",
        "y=air_quality.iloc[:,-1]\n",
        "\n",
        "X_train, X_test, y_train, y_test = train_test_split(X, y,test_size=.20,random_state =100)"
      ],
      "execution_count": 54,
      "outputs": []
    },
    {
      "cell_type": "code",
      "metadata": {
        "colab": {
          "base_uri": "https://localhost:8080/"
        },
        "id": "s0xMKPtI4vPg",
        "outputId": "4ddbabbb-da25-499a-8efa-32151ab5ef01"
      },
      "source": [
        "regressor= LazyRegressor(verbose=0, ignore_warnings=False, custom_metric=None)\n",
        "models, predictions = regressor.fit(X_train, X_test, y_train, y_test)"
      ],
      "execution_count": 55,
      "outputs": [
        {
          "output_type": "stream",
          "text": [
            " 29%|██▊       | 12/42 [00:00<00:01, 17.04it/s]"
          ],
          "name": "stderr"
        },
        {
          "output_type": "stream",
          "text": [
            "GammaRegressor model failed to execute\n",
            "Some value(s) of y are out of the valid range for family GammaDistribution\n"
          ],
          "name": "stdout"
        },
        {
          "output_type": "stream",
          "text": [
            "100%|██████████| 42/42 [00:03<00:00, 10.78it/s]\n"
          ],
          "name": "stderr"
        }
      ]
    },
    {
      "cell_type": "code",
      "metadata": {
        "colab": {
          "base_uri": "https://localhost:8080/",
          "height": 1000
        },
        "id": "WTVMiKta4HD1",
        "outputId": "e593899b-9bd1-4f39-9587-adeeaeafdb03"
      },
      "source": [
        "models"
      ],
      "execution_count": 56,
      "outputs": [
        {
          "output_type": "execute_result",
          "data": {
            "text/html": [
              "<div>\n",
              "<style scoped>\n",
              "    .dataframe tbody tr th:only-of-type {\n",
              "        vertical-align: middle;\n",
              "    }\n",
              "\n",
              "    .dataframe tbody tr th {\n",
              "        vertical-align: top;\n",
              "    }\n",
              "\n",
              "    .dataframe thead th {\n",
              "        text-align: right;\n",
              "    }\n",
              "</style>\n",
              "<table border=\"1\" class=\"dataframe\">\n",
              "  <thead>\n",
              "    <tr style=\"text-align: right;\">\n",
              "      <th></th>\n",
              "      <th>Adjusted R-Squared</th>\n",
              "      <th>R-Squared</th>\n",
              "      <th>RMSE</th>\n",
              "      <th>Time Taken</th>\n",
              "    </tr>\n",
              "    <tr>\n",
              "      <th>Model</th>\n",
              "      <th></th>\n",
              "      <th></th>\n",
              "      <th></th>\n",
              "      <th></th>\n",
              "    </tr>\n",
              "  </thead>\n",
              "  <tbody>\n",
              "    <tr>\n",
              "      <th>ExtraTreesRegressor</th>\n",
              "      <td>0.86</td>\n",
              "      <td>0.86</td>\n",
              "      <td>32.67</td>\n",
              "      <td>0.23</td>\n",
              "    </tr>\n",
              "    <tr>\n",
              "      <th>XGBRegressor</th>\n",
              "      <td>0.83</td>\n",
              "      <td>0.83</td>\n",
              "      <td>35.84</td>\n",
              "      <td>0.08</td>\n",
              "    </tr>\n",
              "    <tr>\n",
              "      <th>HistGradientBoostingRegressor</th>\n",
              "      <td>0.81</td>\n",
              "      <td>0.82</td>\n",
              "      <td>37.64</td>\n",
              "      <td>0.35</td>\n",
              "    </tr>\n",
              "    <tr>\n",
              "      <th>LGBMRegressor</th>\n",
              "      <td>0.81</td>\n",
              "      <td>0.81</td>\n",
              "      <td>38.20</td>\n",
              "      <td>0.09</td>\n",
              "    </tr>\n",
              "    <tr>\n",
              "      <th>RandomForestRegressor</th>\n",
              "      <td>0.80</td>\n",
              "      <td>0.81</td>\n",
              "      <td>38.43</td>\n",
              "      <td>0.40</td>\n",
              "    </tr>\n",
              "    <tr>\n",
              "      <th>BaggingRegressor</th>\n",
              "      <td>0.79</td>\n",
              "      <td>0.80</td>\n",
              "      <td>39.83</td>\n",
              "      <td>0.05</td>\n",
              "    </tr>\n",
              "    <tr>\n",
              "      <th>GradientBoostingRegressor</th>\n",
              "      <td>0.72</td>\n",
              "      <td>0.73</td>\n",
              "      <td>45.95</td>\n",
              "      <td>0.19</td>\n",
              "    </tr>\n",
              "    <tr>\n",
              "      <th>KNeighborsRegressor</th>\n",
              "      <td>0.65</td>\n",
              "      <td>0.66</td>\n",
              "      <td>51.40</td>\n",
              "      <td>0.01</td>\n",
              "    </tr>\n",
              "    <tr>\n",
              "      <th>GaussianProcessRegressor</th>\n",
              "      <td>0.62</td>\n",
              "      <td>0.64</td>\n",
              "      <td>53.04</td>\n",
              "      <td>0.10</td>\n",
              "    </tr>\n",
              "    <tr>\n",
              "      <th>DecisionTreeRegressor</th>\n",
              "      <td>0.61</td>\n",
              "      <td>0.62</td>\n",
              "      <td>54.33</td>\n",
              "      <td>0.01</td>\n",
              "    </tr>\n",
              "    <tr>\n",
              "      <th>AdaBoostRegressor</th>\n",
              "      <td>0.60</td>\n",
              "      <td>0.61</td>\n",
              "      <td>54.85</td>\n",
              "      <td>0.14</td>\n",
              "    </tr>\n",
              "    <tr>\n",
              "      <th>ExtraTreeRegressor</th>\n",
              "      <td>0.59</td>\n",
              "      <td>0.61</td>\n",
              "      <td>55.22</td>\n",
              "      <td>0.01</td>\n",
              "    </tr>\n",
              "    <tr>\n",
              "      <th>PoissonRegressor</th>\n",
              "      <td>0.55</td>\n",
              "      <td>0.56</td>\n",
              "      <td>58.30</td>\n",
              "      <td>0.01</td>\n",
              "    </tr>\n",
              "    <tr>\n",
              "      <th>LinearRegression</th>\n",
              "      <td>0.48</td>\n",
              "      <td>0.50</td>\n",
              "      <td>62.46</td>\n",
              "      <td>0.01</td>\n",
              "    </tr>\n",
              "    <tr>\n",
              "      <th>Lars</th>\n",
              "      <td>0.48</td>\n",
              "      <td>0.50</td>\n",
              "      <td>62.46</td>\n",
              "      <td>0.01</td>\n",
              "    </tr>\n",
              "    <tr>\n",
              "      <th>TransformedTargetRegressor</th>\n",
              "      <td>0.48</td>\n",
              "      <td>0.50</td>\n",
              "      <td>62.46</td>\n",
              "      <td>0.01</td>\n",
              "    </tr>\n",
              "    <tr>\n",
              "      <th>Ridge</th>\n",
              "      <td>0.48</td>\n",
              "      <td>0.50</td>\n",
              "      <td>62.47</td>\n",
              "      <td>0.01</td>\n",
              "    </tr>\n",
              "    <tr>\n",
              "      <th>BayesianRidge</th>\n",
              "      <td>0.48</td>\n",
              "      <td>0.50</td>\n",
              "      <td>62.52</td>\n",
              "      <td>0.01</td>\n",
              "    </tr>\n",
              "    <tr>\n",
              "      <th>RidgeCV</th>\n",
              "      <td>0.48</td>\n",
              "      <td>0.50</td>\n",
              "      <td>62.52</td>\n",
              "      <td>0.01</td>\n",
              "    </tr>\n",
              "    <tr>\n",
              "      <th>OrthogonalMatchingPursuitCV</th>\n",
              "      <td>0.48</td>\n",
              "      <td>0.50</td>\n",
              "      <td>62.53</td>\n",
              "      <td>0.02</td>\n",
              "    </tr>\n",
              "    <tr>\n",
              "      <th>LassoLarsIC</th>\n",
              "      <td>0.48</td>\n",
              "      <td>0.50</td>\n",
              "      <td>62.60</td>\n",
              "      <td>0.01</td>\n",
              "    </tr>\n",
              "    <tr>\n",
              "      <th>LassoCV</th>\n",
              "      <td>0.48</td>\n",
              "      <td>0.50</td>\n",
              "      <td>62.64</td>\n",
              "      <td>0.10</td>\n",
              "    </tr>\n",
              "    <tr>\n",
              "      <th>SGDRegressor</th>\n",
              "      <td>0.48</td>\n",
              "      <td>0.50</td>\n",
              "      <td>62.64</td>\n",
              "      <td>0.01</td>\n",
              "    </tr>\n",
              "    <tr>\n",
              "      <th>LassoLarsCV</th>\n",
              "      <td>0.48</td>\n",
              "      <td>0.50</td>\n",
              "      <td>62.66</td>\n",
              "      <td>0.02</td>\n",
              "    </tr>\n",
              "    <tr>\n",
              "      <th>LarsCV</th>\n",
              "      <td>0.48</td>\n",
              "      <td>0.50</td>\n",
              "      <td>62.67</td>\n",
              "      <td>0.03</td>\n",
              "    </tr>\n",
              "    <tr>\n",
              "      <th>Lasso</th>\n",
              "      <td>0.48</td>\n",
              "      <td>0.49</td>\n",
              "      <td>62.68</td>\n",
              "      <td>0.03</td>\n",
              "    </tr>\n",
              "    <tr>\n",
              "      <th>ElasticNetCV</th>\n",
              "      <td>0.47</td>\n",
              "      <td>0.49</td>\n",
              "      <td>62.74</td>\n",
              "      <td>0.06</td>\n",
              "    </tr>\n",
              "    <tr>\n",
              "      <th>HuberRegressor</th>\n",
              "      <td>0.47</td>\n",
              "      <td>0.49</td>\n",
              "      <td>62.84</td>\n",
              "      <td>0.03</td>\n",
              "    </tr>\n",
              "    <tr>\n",
              "      <th>LinearSVR</th>\n",
              "      <td>0.45</td>\n",
              "      <td>0.47</td>\n",
              "      <td>64.20</td>\n",
              "      <td>0.01</td>\n",
              "    </tr>\n",
              "    <tr>\n",
              "      <th>ElasticNet</th>\n",
              "      <td>0.44</td>\n",
              "      <td>0.46</td>\n",
              "      <td>64.60</td>\n",
              "      <td>0.01</td>\n",
              "    </tr>\n",
              "    <tr>\n",
              "      <th>PassiveAggressiveRegressor</th>\n",
              "      <td>0.44</td>\n",
              "      <td>0.46</td>\n",
              "      <td>64.98</td>\n",
              "      <td>0.01</td>\n",
              "    </tr>\n",
              "    <tr>\n",
              "      <th>TweedieRegressor</th>\n",
              "      <td>0.42</td>\n",
              "      <td>0.44</td>\n",
              "      <td>66.15</td>\n",
              "      <td>0.02</td>\n",
              "    </tr>\n",
              "    <tr>\n",
              "      <th>GeneralizedLinearRegressor</th>\n",
              "      <td>0.42</td>\n",
              "      <td>0.44</td>\n",
              "      <td>66.15</td>\n",
              "      <td>0.03</td>\n",
              "    </tr>\n",
              "    <tr>\n",
              "      <th>MLPRegressor</th>\n",
              "      <td>0.41</td>\n",
              "      <td>0.43</td>\n",
              "      <td>66.32</td>\n",
              "      <td>1.43</td>\n",
              "    </tr>\n",
              "    <tr>\n",
              "      <th>OrthogonalMatchingPursuit</th>\n",
              "      <td>0.41</td>\n",
              "      <td>0.43</td>\n",
              "      <td>66.65</td>\n",
              "      <td>0.01</td>\n",
              "    </tr>\n",
              "    <tr>\n",
              "      <th>RANSACRegressor</th>\n",
              "      <td>0.40</td>\n",
              "      <td>0.43</td>\n",
              "      <td>66.79</td>\n",
              "      <td>0.06</td>\n",
              "    </tr>\n",
              "    <tr>\n",
              "      <th>SVR</th>\n",
              "      <td>0.37</td>\n",
              "      <td>0.39</td>\n",
              "      <td>68.60</td>\n",
              "      <td>0.06</td>\n",
              "    </tr>\n",
              "    <tr>\n",
              "      <th>NuSVR</th>\n",
              "      <td>0.36</td>\n",
              "      <td>0.38</td>\n",
              "      <td>69.44</td>\n",
              "      <td>0.07</td>\n",
              "    </tr>\n",
              "    <tr>\n",
              "      <th>LassoLars</th>\n",
              "      <td>0.30</td>\n",
              "      <td>0.32</td>\n",
              "      <td>72.47</td>\n",
              "      <td>0.01</td>\n",
              "    </tr>\n",
              "    <tr>\n",
              "      <th>DummyRegressor</th>\n",
              "      <td>-0.05</td>\n",
              "      <td>-0.01</td>\n",
              "      <td>88.74</td>\n",
              "      <td>0.01</td>\n",
              "    </tr>\n",
              "    <tr>\n",
              "      <th>KernelRidge</th>\n",
              "      <td>-1.21</td>\n",
              "      <td>-1.13</td>\n",
              "      <td>128.66</td>\n",
              "      <td>0.04</td>\n",
              "    </tr>\n",
              "  </tbody>\n",
              "</table>\n",
              "</div>"
            ],
            "text/plain": [
              "                               Adjusted R-Squared  R-Squared   RMSE  Time Taken\n",
              "Model                                                                          \n",
              "ExtraTreesRegressor                          0.86       0.86  32.67        0.23\n",
              "XGBRegressor                                 0.83       0.83  35.84        0.08\n",
              "HistGradientBoostingRegressor                0.81       0.82  37.64        0.35\n",
              "LGBMRegressor                                0.81       0.81  38.20        0.09\n",
              "RandomForestRegressor                        0.80       0.81  38.43        0.40\n",
              "BaggingRegressor                             0.79       0.80  39.83        0.05\n",
              "GradientBoostingRegressor                    0.72       0.73  45.95        0.19\n",
              "KNeighborsRegressor                          0.65       0.66  51.40        0.01\n",
              "GaussianProcessRegressor                     0.62       0.64  53.04        0.10\n",
              "DecisionTreeRegressor                        0.61       0.62  54.33        0.01\n",
              "AdaBoostRegressor                            0.60       0.61  54.85        0.14\n",
              "ExtraTreeRegressor                           0.59       0.61  55.22        0.01\n",
              "PoissonRegressor                             0.55       0.56  58.30        0.01\n",
              "LinearRegression                             0.48       0.50  62.46        0.01\n",
              "Lars                                         0.48       0.50  62.46        0.01\n",
              "TransformedTargetRegressor                   0.48       0.50  62.46        0.01\n",
              "Ridge                                        0.48       0.50  62.47        0.01\n",
              "BayesianRidge                                0.48       0.50  62.52        0.01\n",
              "RidgeCV                                      0.48       0.50  62.52        0.01\n",
              "OrthogonalMatchingPursuitCV                  0.48       0.50  62.53        0.02\n",
              "LassoLarsIC                                  0.48       0.50  62.60        0.01\n",
              "LassoCV                                      0.48       0.50  62.64        0.10\n",
              "SGDRegressor                                 0.48       0.50  62.64        0.01\n",
              "LassoLarsCV                                  0.48       0.50  62.66        0.02\n",
              "LarsCV                                       0.48       0.50  62.67        0.03\n",
              "Lasso                                        0.48       0.49  62.68        0.03\n",
              "ElasticNetCV                                 0.47       0.49  62.74        0.06\n",
              "HuberRegressor                               0.47       0.49  62.84        0.03\n",
              "LinearSVR                                    0.45       0.47  64.20        0.01\n",
              "ElasticNet                                   0.44       0.46  64.60        0.01\n",
              "PassiveAggressiveRegressor                   0.44       0.46  64.98        0.01\n",
              "TweedieRegressor                             0.42       0.44  66.15        0.02\n",
              "GeneralizedLinearRegressor                   0.42       0.44  66.15        0.03\n",
              "MLPRegressor                                 0.41       0.43  66.32        1.43\n",
              "OrthogonalMatchingPursuit                    0.41       0.43  66.65        0.01\n",
              "RANSACRegressor                              0.40       0.43  66.79        0.06\n",
              "SVR                                          0.37       0.39  68.60        0.06\n",
              "NuSVR                                        0.36       0.38  69.44        0.07\n",
              "LassoLars                                    0.30       0.32  72.47        0.01\n",
              "DummyRegressor                              -0.05      -0.01  88.74        0.01\n",
              "KernelRidge                                 -1.21      -1.13 128.66        0.04"
            ]
          },
          "metadata": {
            "tags": []
          },
          "execution_count": 56
        }
      ]
    },
    {
      "cell_type": "markdown",
      "metadata": {
        "id": "aCiqLDKBjgCR"
      },
      "source": [
        "**Conclusion**\n",
        "\n",
        "#### Finally, It automated library is very helpful to make a decision quickly and get the ideas which are the best suitable algorithm for classification problems or regressor problems. Further, we can do hyperparameter tunning manually. And find the best suitable parameters for each problem."
      ]
    }
  ]
}